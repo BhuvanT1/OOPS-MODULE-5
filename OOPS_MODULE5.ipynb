{
  "nbformat": 4,
  "nbformat_minor": 0,
  "metadata": {
    "colab": {
      "provenance": []
    },
    "kernelspec": {
      "name": "python3",
      "display_name": "Python 3"
    },
    "language_info": {
      "name": "python"
    }
  },
  "cells": [
    {
      "cell_type": "markdown",
      "source": [
        "#THEORITICAL  QUESTIONS\n"
      ],
      "metadata": {
        "id": "HZFa57oo4rYm"
      }
    },
    {
      "cell_type": "markdown",
      "source": [
        "#Q1.What is Object-Oriented Programming (OOP)?"
      ],
      "metadata": {
        "id": "2NgDqNrVHi_A"
      }
    },
    {
      "cell_type": "markdown",
      "source": [
        "-> OOP is a way of organizing code with objects that have data and actions. It's like creating things that have both characteristics and behaviors."
      ],
      "metadata": {
        "id": "4gfnnOLPHseg"
      }
    },
    {
      "cell_type": "markdown",
      "source": [
        "#Q2. What is a class in OOP?"
      ],
      "metadata": {
        "id": "sk5fvfw5IdmY"
      }
    },
    {
      "cell_type": "markdown",
      "source": [
        "-> A class is a blueprint for making objects. It defines data and functions that objects will use."
      ],
      "metadata": {
        "id": "zfZ_vnAWIgR7"
      }
    },
    {
      "cell_type": "markdown",
      "source": [
        "#Q3.What is an object in OOP?"
      ],
      "metadata": {
        "id": "Zbrg6lFtHute"
      }
    },
    {
      "cell_type": "markdown",
      "source": [
        "-> An object is an instance of a class. It has specific features and can do things based on the class."
      ],
      "metadata": {
        "id": "BSg_hE1hI7ID"
      }
    },
    {
      "cell_type": "markdown",
      "source": [
        "#Q4. What is the difference between abstraction and encapsulation?"
      ],
      "metadata": {
        "id": "F-VpFAOKLCa3"
      }
    },
    {
      "cell_type": "markdown",
      "source": [
        "-> Abstraction shows only important details, hiding others. For example, using a TV remote. Encapsulation keeps data and actions in one place, controlling access to them. Like a microwave."
      ],
      "metadata": {
        "id": "m9bJaga4LIGs"
      }
    },
    {
      "cell_type": "markdown",
      "source": [
        "#Q5.What are dunder methods in Python?"
      ],
      "metadata": {
        "id": "T_EZC5B5LM6v"
      }
    },
    {
      "cell_type": "markdown",
      "source": [
        "->Dunder methods in Python are special functions with double underscores, like str. They let you perform operations on objects."
      ],
      "metadata": {
        "id": "nQ5GnATxLQuf"
      }
    },
    {
      "cell_type": "markdown",
      "source": [
        "#Q6. Explain the concept of inheritance in OOP?"
      ],
      "metadata": {
        "id": "rTfWmCizLYc_"
      }
    },
    {
      "cell_type": "markdown",
      "source": [
        "->Inheritance lets one class use the data and functions of another class. This saves time by reusing code."
      ],
      "metadata": {
        "id": "Yhr5YMF-LdKy"
      }
    },
    {
      "cell_type": "markdown",
      "source": [
        "#Q7.What is polymorphism in OOP?"
      ],
      "metadata": {
        "id": "RgurBpYHLf98"
      }
    },
    {
      "cell_type": "markdown",
      "source": [
        "->Polymorphism allows classes to have methods with the same name but perform different things."
      ],
      "metadata": {
        "id": "dgmnJYhILoYd"
      }
    },
    {
      "cell_type": "markdown",
      "source": [
        "#Q8. How is encapsulation achieved in Python?"
      ],
      "metadata": {
        "id": "rNON9chhLvY2"
      }
    },
    {
      "cell_type": "markdown",
      "source": [
        "->Encapsulation is done by hiding data in a class and controlling access using special methods."
      ],
      "metadata": {
        "id": "9YsF6MdBL0tP"
      }
    },
    {
      "cell_type": "markdown",
      "source": [
        "#Q9.What is a constructor in Python?"
      ],
      "metadata": {
        "id": "HYfWmgGOL41x"
      }
    },
    {
      "cell_type": "markdown",
      "source": [
        "->A constructor is a special function that runs when an object is created to set it up."
      ],
      "metadata": {
        "id": "x4NaymC3L85I"
      }
    },
    {
      "cell_type": "markdown",
      "source": [
        "#Q10. What are class and static methods in Python?"
      ],
      "metadata": {
        "id": "nXkNeJYAMB_L"
      }
    },
    {
      "cell_type": "markdown",
      "source": [
        "->Class methods are  defined with @classmethod and work with the class itself. Static methods are defined with @staticmethod and don't use class or instance data."
      ],
      "metadata": {
        "id": "doiFbDGhMFGo"
      }
    },
    {
      "cell_type": "markdown",
      "source": [
        "#Q11. What is method overloading in Python?"
      ],
      "metadata": {
        "id": "TbKct5F0MNMl"
      }
    },
    {
      "cell_type": "markdown",
      "source": [
        "->Method overloading allows multiple methods with the same name but different arguments."
      ],
      "metadata": {
        "id": "04duiNzcMQg4"
      }
    },
    {
      "cell_type": "markdown",
      "source": [
        "#Q12. What is method overriding in OOP?"
      ],
      "metadata": {
        "id": "J4GX2LveMTgu"
      }
    },
    {
      "cell_type": "markdown",
      "source": [
        "->Method overriding means a child class gives its own version of a method already in the parent class."
      ],
      "metadata": {
        "id": "MaRwv4sPMW2g"
      }
    },
    {
      "cell_type": "markdown",
      "source": [
        "#Q13. What is a property decorator in Python?"
      ],
      "metadata": {
        "id": "K2EIecXIMX0e"
      }
    },
    {
      "cell_type": "markdown",
      "source": [
        "-> A property decorator lets a method act like an attribute, allowing you to get its value like a variable."
      ],
      "metadata": {
        "id": "59qmYTFgMgX1"
      }
    },
    {
      "cell_type": "markdown",
      "source": [
        "#Q14. Why is polymorphism important in OOP?"
      ],
      "metadata": {
        "id": "5imOopaKMj7c"
      }
    },
    {
      "cell_type": "markdown",
      "source": [
        "->Polymorphism allows objects of different classes to use the same method but do different things, making code flexible."
      ],
      "metadata": {
        "id": "CsR5fFUQMoEy"
      }
    },
    {
      "cell_type": "markdown",
      "source": [
        "#Q15. What is an abstract class in Python?"
      ],
      "metadata": {
        "id": "GTX_AxArMsT3"
      }
    },
    {
      "cell_type": "markdown",
      "source": [
        "->An abstract class in python is a class that can't be used to make objects. It has methods that must be implemented by its subclasses."
      ],
      "metadata": {
        "id": "crKQnw6YMwxA"
      }
    },
    {
      "cell_type": "markdown",
      "source": [
        "#Q16. What are the advantages of OOP?"
      ],
      "metadata": {
        "id": "0_4PtE_FMxV_"
      }
    },
    {
      "cell_type": "markdown",
      "source": [
        "->OOP makes code easier to manage, reuse, and maintain while protecting data with controlled access."
      ],
      "metadata": {
        "id": "2UMKYopFM3pW"
      }
    },
    {
      "cell_type": "markdown",
      "source": [
        "#Q17.What is the difference between a class variable and an instance variable?"
      ],
      "metadata": {
        "id": "bMkwqdh7M9AS"
      }
    },
    {
      "cell_type": "markdown",
      "source": [
        "->A class variable is shared by all objects of a class. An instance variable is specific to each object."
      ],
      "metadata": {
        "id": "su8owjFHM_La"
      }
    },
    {
      "cell_type": "markdown",
      "source": [
        "#Q18. What is multiple inheritance in Python?"
      ],
      "metadata": {
        "id": "DRSstNmGNG4i"
      }
    },
    {
      "cell_type": "markdown",
      "source": [
        "->Multiple inheritance allows a class to inherit from more than one parent class."
      ],
      "metadata": {
        "id": "h6GR1rgaNNYa"
      }
    },
    {
      "cell_type": "markdown",
      "source": [
        "#Q19. Explain the purpose of str and repr methods in Python."
      ],
      "metadata": {
        "id": "HsKFhKilNSOC"
      }
    },
    {
      "cell_type": "markdown",
      "source": [
        "-> \"__str__\" makes the object look nice and easy to understand when you print it.\"__repr__\" shows a detailed, technical description of the object, useful for debugging."
      ],
      "metadata": {
        "id": "dHD5QQ5ENXJr"
      }
    },
    {
      "cell_type": "markdown",
      "source": [
        "#Q20. What is the significance of the super() function in Python?"
      ],
      "metadata": {
        "id": "1AJ6kyOENs1C"
      }
    },
    {
      "cell_type": "markdown",
      "source": [
        "-> The super() function allows  to  call methods from the parent class, which is useful when doing method overriding."
      ],
      "metadata": {
        "id": "I3NvUGLQNzXA"
      }
    },
    {
      "cell_type": "markdown",
      "source": [
        "#Q21. What is the significance of the del method in Python?"
      ],
      "metadata": {
        "id": "X9tNWTvtODWO"
      }
    },
    {
      "cell_type": "markdown",
      "source": [
        "->The __del__ method runs when an object is about to be deleted and is useful for cleanup tasks."
      ],
      "metadata": {
        "id": "tUYoz1OiOJEk"
      }
    },
    {
      "cell_type": "markdown",
      "source": [
        "#Q22.What is the difference between @staticmethod and @classmethod in Python?"
      ],
      "metadata": {
        "id": "8OPHSmm0ORCH"
      }
    },
    {
      "cell_type": "markdown",
      "source": [
        "->Class methods are defined using the \"@classmethod\" decorator. They take the class itself as the first argument and can modify class-level attributes.\n",
        "Static methods are defined using the \"@staticmethod\" decorator. They don’t take self or class as arguments and don’t access instance or class data."
      ],
      "metadata": {
        "id": "vrVtzUApOXg8"
      }
    },
    {
      "cell_type": "markdown",
      "source": [
        "#Q23.How does polymorphism work in Python with inheritance?"
      ],
      "metadata": {
        "id": "Ql9HY_G6OcFb"
      }
    },
    {
      "cell_type": "markdown",
      "source": [
        "->Inheritance lets one class use the data and functions of another class. This saves time by reusing code.Polymorphism allows a child class to  have a method with the same name as the parent class, but the child can make the method perform different things."
      ],
      "metadata": {
        "id": "OYhQcJ9tOgnz"
      }
    },
    {
      "cell_type": "markdown",
      "source": [
        "#Q24.What is method chaining in Python OOP?"
      ],
      "metadata": {
        "id": "1hugDMJJOroH"
      }
    },
    {
      "cell_type": "markdown",
      "source": [
        "->Method chaining allows to call multiple methods on the same object in one line. Each method returns the object."
      ],
      "metadata": {
        "id": "bUz2gm4aOvmf"
      }
    },
    {
      "cell_type": "markdown",
      "source": [
        "#Q25.What is the purpose of the call method in Python?"
      ],
      "metadata": {
        "id": "V6rbONCDO5Jr"
      }
    },
    {
      "cell_type": "markdown",
      "source": [
        "->The call method  allows us to call an object like a function by using parentheses ()."
      ],
      "metadata": {
        "id": "Romxx8vPO_b_"
      }
    },
    {
      "cell_type": "markdown",
      "source": [
        "#PRACTICAL QUESTIONS"
      ],
      "metadata": {
        "id": "OHZ4Jy5ePHEg"
      }
    },
    {
      "cell_type": "code",
      "source": [
        "#Q1.Create a parent class Animal with a method speak() that prints a generic message. Create a child class Dog that overrides the speak() method to print \"Bark!\".\n",
        "class Animal:\n",
        "    def speak(s):\n",
        "        print(\"Animal makes a sound\")\n",
        "\n",
        "class Dog(Animal):\n",
        "    def speak(s):\n",
        "        print(\"Bark!\")\n",
        "animal= Animal()\n",
        "animal.speak()\n",
        "dog = Dog()\n",
        "dog.speak()\n"
      ],
      "metadata": {
        "colab": {
          "base_uri": "https://localhost:8080/"
        },
        "id": "TW7k-haUPcQ8",
        "outputId": "f9ca5c4e-0c65-4381-9a65-1ba15db8764e"
      },
      "execution_count": 2,
      "outputs": [
        {
          "output_type": "stream",
          "name": "stdout",
          "text": [
            "Animal makes a sound\n",
            "Bark!\n"
          ]
        }
      ]
    },
    {
      "cell_type": "code",
      "source": [
        "#Q2. Write a program to create an abstract class Shape with a method area(). Derive classes Circle and Rectangle from it and implement the area() method in both.\n",
        "import abc\n",
        "import math\n",
        "class Shape():\n",
        "    @abc.abstractmethod\n",
        "    def area(self):\n",
        "        pass\n",
        "class Circle(Shape):\n",
        "    def __init__(self, radius):\n",
        "        self.radius = radius\n",
        "    def area(self):\n",
        "        return math.pi * self.radius ** 2\n",
        "class Rectangle(Shape):\n",
        "    def __init__(self, width, height):\n",
        "        self.width = width\n",
        "        self.height = height\n",
        "    def area(self):\n",
        "        return self.width * self.height\n",
        "circle = Circle(10)\n",
        "print(\"Area of Circle: \" + str(circle.area()))\n",
        "rectangle = Rectangle(3, 8)\n",
        "print(\"Area of Rectangle: \" + str(rectangle.area()))\n"
      ],
      "metadata": {
        "colab": {
          "base_uri": "https://localhost:8080/"
        },
        "id": "glcvpKkRPuy1",
        "outputId": "86c74bcf-02ab-4a6d-a022-1b66c58b44e0"
      },
      "execution_count": 4,
      "outputs": [
        {
          "output_type": "stream",
          "name": "stdout",
          "text": [
            "Area of Circle: 314.1592653589793\n",
            "Area of Rectangle: 24\n"
          ]
        }
      ]
    },
    {
      "cell_type": "code",
      "source": [
        "#Q3.Implement a multi-level inheritance scenario where a class Vehicle has an attribute type. Derive a class Car and further derive a class ElectricCar that adds a battery attribute.\n",
        "class Vehicle:\n",
        "    def __init__(self, type):\n",
        "        self.type = type\n",
        "    def display(self):\n",
        "        print(\"Vehicle type: \" + self.type)\n",
        "class Car(Vehicle):\n",
        "    def __init__(self, type, brand):\n",
        "        super().__init__(type)\n",
        "        self.brand = brand\n",
        "    def display(self):\n",
        "        print(\"Car brand: \" + self.brand)\n",
        "class ElectricCar(Car):\n",
        "    def __init__(self, type, brand, capacity):\n",
        "        super().__init__(type, brand)\n",
        "        self.capacity = capacity\n",
        "    def display(self):\n",
        "        print(\"Electric Car battery capacity: \" + str(self.capacity) )\n",
        "vehicle = Vehicle(\"A vehicle \")\n",
        "vehicle.display()\n",
        "car = Car(\"Car\", \"Toyota\")\n",
        "car.display()\n",
        "ecar = ElectricCar(\"Electric Car\", \"Tesla\", 95)\n",
        "ecar.display()\n",
        "\n"
      ],
      "metadata": {
        "colab": {
          "base_uri": "https://localhost:8080/"
        },
        "id": "MJP9bthwQFOy",
        "outputId": "2da8c357-dc10-497b-d02b-ef5616f44681"
      },
      "execution_count": 7,
      "outputs": [
        {
          "output_type": "stream",
          "name": "stdout",
          "text": [
            "Vehicle type: A vehicle \n",
            "Car brand: Toyota\n",
            "Electric Car battery capacity: 95\n"
          ]
        }
      ]
    },
    {
      "cell_type": "code",
      "source": [
        "#Q4. Implement a multi-level inheritance scenario where a class Vehicle has an attribute type. Derive a class Car and further derive a class ElectricCar that adds a battery attribute.\n",
        "class Vehicle:\n",
        "    def __init__(self, type):\n",
        "        self.type = type\n",
        "    def display(self):\n",
        "        print(\"Vehicle type: \" + self.type)\n",
        "class Car(Vehicle):\n",
        "    def __init__(self, type, brand):\n",
        "        super().__init__(type)\n",
        "        self.brand = brand\n",
        "    def display(self):\n",
        "        print(\"Car brand: \" + self.brand)\n",
        "class ElectricCar(Car):\n",
        "    def __init__(self, type, brand, capacity):\n",
        "        super().__init__(type, brand)\n",
        "        self.capacity = capacity\n",
        "    def display(self):\n",
        "        print(\"Electric Car battery capacity: \" + str(self.capacity) )\n",
        "vehicle = Vehicle(\"A vehicle \")\n",
        "vehicle.display()\n",
        "car = Car(\"Car\", \"Toyota\")\n",
        "car.display()\n",
        "ecar = ElectricCar(\"Electric Car\", \"Tesla\", 95)\n",
        "ecar.display()\n",
        "\n"
      ],
      "metadata": {
        "colab": {
          "base_uri": "https://localhost:8080/"
        },
        "id": "9TI1q53vQ3J4",
        "outputId": "d9ddfc2c-5af4-4b0b-998b-278c133deaa0"
      },
      "execution_count": 8,
      "outputs": [
        {
          "output_type": "stream",
          "name": "stdout",
          "text": [
            "Vehicle type: A vehicle \n",
            "Car brand: Toyota\n",
            "Electric Car battery capacity: 95\n"
          ]
        }
      ]
    },
    {
      "cell_type": "code",
      "source": [
        "#Q5.Write a program to demonstrate encapsulation by creating a class BankAccount with private attributes balance and methods to deposit, withdraw, and check balance\n",
        "class BankAccount:\n",
        "    def __init__(self, balance):\n",
        "        self.balance = balance\n",
        "    def deposit(self, amount):\n",
        "        if amount > 0:\n",
        "            self.balance += amount\n",
        "            print(\"Deposited: \" + str(amount))\n",
        "        else:\n",
        "            print(\"Invalid.\")\n",
        "    def withdraw(self, amount):\n",
        "        if amount > 0 and amount <= self.balance:\n",
        "            self.balance -= amount\n",
        "            print(\"Withdrawn: \" + str(amount))\n",
        "        elif amount > self.balance:\n",
        "            print(\"Insufficient balance.\")\n",
        "        else:\n",
        "            print(\"Invalid.\")\n",
        "    def check(self):\n",
        "        print(\"Current balance: \" + str(self.balance))\n",
        "account = BankAccount(8765849)\n",
        "account.deposit(10000)\n",
        "account.withdraw(2000)\n",
        "account.check()\n"
      ],
      "metadata": {
        "colab": {
          "base_uri": "https://localhost:8080/"
        },
        "id": "pjZGyoAfRER2",
        "outputId": "1cd8d20c-6bdb-49a2-dca3-95c673740c8d"
      },
      "execution_count": 9,
      "outputs": [
        {
          "output_type": "stream",
          "name": "stdout",
          "text": [
            "Deposited: 10000\n",
            "Withdrawn: 2000\n",
            "Current balance: 8773849\n"
          ]
        }
      ]
    },
    {
      "cell_type": "code",
      "source": [
        "#Q6. Demonstrate runtime polymorphism using a method play() in a base class Instrument. Derive classes Guitar and Piano that implement their own version of play().\n",
        "class Instrument:\n",
        "  def play(self):\n",
        "    pass\n",
        "class Guitar(Instrument):\n",
        "  def play(self):\n",
        "    print(\"Guitar is playing \")\n",
        "class Piano(Instrument):\n",
        "  def play(self):\n",
        "    print(\"Piano is playing.\")\n",
        "guitar=Guitar()\n",
        "piano=Piano()\n",
        "guitar.play()\n",
        "piano.play()"
      ],
      "metadata": {
        "colab": {
          "base_uri": "https://localhost:8080/"
        },
        "id": "pAnhf1f5RT6k",
        "outputId": "b6f593c0-3130-40bd-f2d3-65f955405c8a"
      },
      "execution_count": 10,
      "outputs": [
        {
          "output_type": "stream",
          "name": "stdout",
          "text": [
            "Guitar is playing \n",
            "Piano is playing.\n"
          ]
        }
      ]
    },
    {
      "cell_type": "code",
      "source": [
        "#Q7. Create a class MathOperations with a class method add_numbers() to add two numbers and a static method subtract_numbers() to subtract two numbers.\n",
        "class MathOperations:\n",
        "  @classmethod\n",
        "  def add_numbers(cls,x,y):\n",
        "    return x+y\n",
        "  @staticmethod\n",
        "  def subtract_numbers(x,y):\n",
        "    return x-y\n",
        "sum= MathOperations.add_numbers(10,3)\n",
        "print(\"Sum is \"+ str(sum))\n",
        "diff= MathOperations.subtract_numbers(10,3)\n",
        "print(\"Difference is \"+ str(diff))"
      ],
      "metadata": {
        "colab": {
          "base_uri": "https://localhost:8080/"
        },
        "id": "PsPBLlqFRdZC",
        "outputId": "9ef32ed5-d2bd-4df8-b3e7-b248661fe5c0"
      },
      "execution_count": 12,
      "outputs": [
        {
          "output_type": "stream",
          "name": "stdout",
          "text": [
            "Sum is 13\n",
            "Difference is 7\n"
          ]
        }
      ]
    },
    {
      "cell_type": "code",
      "source": [
        "#Q8. Implement a class Person with a class method to count the total number of persons created.\n",
        "class Person:\n",
        "    total = 0\n",
        "    def __init__(self, name, age):\n",
        "        self.name = name\n",
        "        self.age = age\n",
        "        Person.total += 1\n",
        "    @classmethod\n",
        "    def count(cls):\n",
        "        return cls.total\n",
        "p1 = Person(\"Abhishek\", 20)\n",
        "p2 = Person(\"shaurya\", 19)\n",
        "print(\"Total no. of persons: \" + str(Person.count()))\n"
      ],
      "metadata": {
        "colab": {
          "base_uri": "https://localhost:8080/"
        },
        "id": "J9K7a332RvG4",
        "outputId": "f4c517a1-7b74-4f50-ac56-663a680540c6"
      },
      "execution_count": 14,
      "outputs": [
        {
          "output_type": "stream",
          "name": "stdout",
          "text": [
            "Total no. of persons: 2\n"
          ]
        }
      ]
    },
    {
      "cell_type": "code",
      "source": [
        "#Q9. Write a class Fraction with attributes numerator and denominator. Override the str method to display the fraction as \"numerator/denominator\".\n",
        "class Fraction:\n",
        "    def __init__(self, numerator, denominator):\n",
        "        self.numerator = numerator\n",
        "        self.denominator = denominator\n",
        "    def __str__(self):\n",
        "        return f\"{self.numerator}/{self.denominator}\"\n",
        "fraction = Fraction(5, 8)\n",
        "print(fraction)\n"
      ],
      "metadata": {
        "id": "MNNv1u0LSCUE"
      },
      "execution_count": null,
      "outputs": []
    },
    {
      "cell_type": "code",
      "source": [
        "#Q10. Demonstrate operator overloading by creating a class Vector and overriding the add method to add two vectors.\n",
        "class Vector:\n",
        "    def __init__(self, a, b):\n",
        "        self.a = a\n",
        "        self.b = b\n",
        "    def __add__(self, other):\n",
        "        return Vector(self.a + other.a, self.b + other.b)\n",
        "    def __str__(self):\n",
        "        return \"(\" + str(self.a) + \", \" + str(self.b) + \")\"\n",
        "v1 = Vector(5, 7)\n",
        "v2 = Vector(6, 8)\n",
        "result = v1 + v2\n",
        "print(\"Result of vector addition: \" + str(result))\n"
      ],
      "metadata": {
        "colab": {
          "base_uri": "https://localhost:8080/"
        },
        "id": "dGClRw0YSWDQ",
        "outputId": "41199a76-c85d-42b5-fb45-b42f2eb504ac"
      },
      "execution_count": 15,
      "outputs": [
        {
          "output_type": "stream",
          "name": "stdout",
          "text": [
            "Result of vector addition: (11, 15)\n"
          ]
        }
      ]
    },
    {
      "cell_type": "code",
      "source": [
        "#Q11.Create a class Person with attributes name and age. Add a method greet() that prints \"Hello, my name is {name} and I am {age} years old.\"\n",
        "class Person:\n",
        "    def __init__(self, name, age):\n",
        "        self.name = name\n",
        "        self.age = age\n",
        "    def greet(self):\n",
        "        print(\"Hello, my name is \" + self.name + \" and I am \" + str(self.age) + \" years old.\")\n",
        "person = Person(\"Themballi Bhuvan\", 20)\n",
        "person.greet()\n"
      ],
      "metadata": {
        "colab": {
          "base_uri": "https://localhost:8080/"
        },
        "id": "CKv00bPiSh6t",
        "outputId": "7d5232eb-c4eb-45e0-8342-9cbf6e37e209"
      },
      "execution_count": 16,
      "outputs": [
        {
          "output_type": "stream",
          "name": "stdout",
          "text": [
            "Hello, my name is Themballi Bhuvan and I am 20 years old.\n"
          ]
        }
      ]
    },
    {
      "cell_type": "code",
      "source": [
        "#Q12. Implement a class Student with attributes name and grades. Create a method average_grade() to compute the average of the grades.\n",
        "class Student:\n",
        "    def __init__(self, name, grades):\n",
        "        self.name = name\n",
        "        self.grades = grades\n",
        "    def average(self):\n",
        "        total = 0\n",
        "        count = 0\n",
        "        for grade in self.grades:\n",
        "            total += grade\n",
        "            count += 1\n",
        "        if count > 0 :\n",
        "          return total / count\n",
        "        else:\n",
        "          return 0\n",
        "student = Student(\"Themballi Bhuvan\", [98,95,90,85])\n",
        "print(\"Average grade:\", student.average())\n"
      ],
      "metadata": {
        "colab": {
          "base_uri": "https://localhost:8080/"
        },
        "id": "-QHGB7L9StHS",
        "outputId": "35b84b8e-e8e8-4bcd-a912-1daf52d1b90d"
      },
      "execution_count": 17,
      "outputs": [
        {
          "output_type": "stream",
          "name": "stdout",
          "text": [
            "Average grade: 92.0\n"
          ]
        }
      ]
    },
    {
      "cell_type": "code",
      "source": [
        "#Q13.Create a class Rectangle with methods set_dimensions() to set the dimensions and area() to calculate thearea.\n",
        "class Rectangle:\n",
        "    def __init__(self):\n",
        "        self.length = 0\n",
        "        self.width = 0\n",
        "    def set_dimensions(self, length, width):\n",
        "        self.length = length\n",
        "        self.width = width\n",
        "    def area(self):\n",
        "        return self.length * self.width\n",
        "rectangle = Rectangle()\n",
        "rectangle.set_dimensions(4, 9)\n",
        "print(\"Area of rectangle:\", rectangle.area())\n"
      ],
      "metadata": {
        "colab": {
          "base_uri": "https://localhost:8080/"
        },
        "id": "aek3Bi7NS6zV",
        "outputId": "e8dc3124-e2d6-4907-cdb3-67cb0af69944"
      },
      "execution_count": 18,
      "outputs": [
        {
          "output_type": "stream",
          "name": "stdout",
          "text": [
            "Area of rectangle: 36\n"
          ]
        }
      ]
    },
    {
      "cell_type": "code",
      "source": [
        "#Q14.Create a class Employee with a method calculate_salary() that computes the salary based on hours worked and hourly rate. Create a derived class Manager that adds a bonus to the salary\n",
        "class Employee:\n",
        "    def __init__(self, name, work, rate):\n",
        "        self.name = name\n",
        "        self.work = work\n",
        "        self.rate = rate\n",
        "    def calc(self):\n",
        "        return self.work * self.rate\n",
        "class Manager(Employee):\n",
        "    def __init__(self, name, work, rate, bonus):\n",
        "        super().__init__(name, work,rate)\n",
        "        self.bonus = bonus\n",
        "    def calc(self):\n",
        "        base = super().calc()\n",
        "        return base+ self.bonus\n",
        "employee = Employee(\"Raju\", 1000, 20)\n",
        "print(\"Employee  Salary:\", employee.calc())\n",
        "manager = Manager(\"Rancho \", 200, 20, 400)\n",
        "print(\"Manager's Salary:\", manager.calc())\n"
      ],
      "metadata": {
        "colab": {
          "base_uri": "https://localhost:8080/"
        },
        "id": "ZwtbG1UQTEne",
        "outputId": "c19a895c-5af2-4798-9a7b-9617aad25e14"
      },
      "execution_count": 19,
      "outputs": [
        {
          "output_type": "stream",
          "name": "stdout",
          "text": [
            "Employee  Salary: 20000\n",
            "Manager's Salary: 4400\n"
          ]
        }
      ]
    },
    {
      "cell_type": "code",
      "source": [
        "#Q15. Create a class Product with attributes name, price, and quantity. Implement a method total_price() that calculates the total price of the product.\n",
        "class Product:\n",
        "    def __init__(self, name, price, quantity):\n",
        "        self.name = name\n",
        "        self.price = price\n",
        "        self.quantity = quantity\n",
        "    def total(self):\n",
        "        return self.price * self.quantity\n",
        "product = Product(\"Watch\", 3000, 4)\n",
        "print(\"Total price:\", product.total())\n"
      ],
      "metadata": {
        "colab": {
          "base_uri": "https://localhost:8080/"
        },
        "id": "25ejN1RNTVWd",
        "outputId": "1adb2541-53fb-41cf-c35e-963b6e795fb9"
      },
      "execution_count": 20,
      "outputs": [
        {
          "output_type": "stream",
          "name": "stdout",
          "text": [
            "Total price: 12000\n"
          ]
        }
      ]
    },
    {
      "cell_type": "code",
      "source": [
        "#Q16. Create a class Animal with an abstract method sound(). Create two derived classes Cow and Sheep that implement the sound() method.\n",
        "import abc\n",
        "class Animal():\n",
        "    @abc.abstractmethod\n",
        "    def sound(self):\n",
        "        pass\n",
        "class Cow(Animal):\n",
        "    def sound(self):\n",
        "        return \"Moo\"\n",
        "class Sheep(Animal):\n",
        "    def sound(self):\n",
        "        return \"Baa\"\n",
        "cow = Cow()\n",
        "sheep = Sheep()\n",
        "print(\"Cow sound:\", cow.sound())\n",
        "print(\"Sheep sound:\", sheep.sound())\n"
      ],
      "metadata": {
        "colab": {
          "base_uri": "https://localhost:8080/"
        },
        "id": "A79AQjcuTh6Y",
        "outputId": "9a647e9a-06a9-4715-9a82-17e7642f4ab6"
      },
      "execution_count": 21,
      "outputs": [
        {
          "output_type": "stream",
          "name": "stdout",
          "text": [
            "Cow sound: Moo\n",
            "Sheep sound: Baa\n"
          ]
        }
      ]
    },
    {
      "cell_type": "code",
      "source": [
        "#Q17. Create a class Book with attributes title, author, and year_published. Add a method get_book_info() that returns a formatted string with the book's details.\n",
        "class Book:\n",
        "    def __init__(self, title, author, year_published):\n",
        "        self.title = title\n",
        "        self.author = author\n",
        "        self.year_published= year_published\n",
        "    def get_book_info(self):\n",
        "        return \"Title: \" + self.title + \"\\nAuthor: \" + self.author + \"\\nYear Published: \" + str(self.year_published)\n",
        "book = Book(\"The tale of the ninetailed\", \"Abc\", 2000)\n",
        "print(book.get_book_info())\n"
      ],
      "metadata": {
        "colab": {
          "base_uri": "https://localhost:8080/"
        },
        "id": "3s7fOhOLTpJ3",
        "outputId": "ebc13fb1-0b25-4526-b094-f002019a33ba"
      },
      "execution_count": 22,
      "outputs": [
        {
          "output_type": "stream",
          "name": "stdout",
          "text": [
            "Title: The tale of the ninetailed\n",
            "Author: Abc\n",
            "Year Published: 2000\n"
          ]
        }
      ]
    },
    {
      "cell_type": "code",
      "source": [
        "#Q18. Create a class House with attributes address and price. Create a derived class Mansion that adds an attribute number_of_rooms\n",
        "class House:\n",
        "    def __init__(self, address, price):\n",
        "        self.address = address\n",
        "        self.price = price\n",
        "    def get_info(self):\n",
        "        return \"Address: \" + self.address + \"\\nPrice: \" + str(self.price)\n",
        "class Mansion(House):\n",
        "    def __init__(self, address, price, number_of_rooms):\n",
        "        super().__init__(address, price)\n",
        "        self.number_of_rooms = number_of_rooms\n",
        "    def get_info(self):\n",
        "        base_info = super().get_info()\n",
        "        return base_info + \"\\nNumber of Rooms: \" + str(self.number_of_rooms)\n",
        "house = House(\"Miyapur\", 1000000)\n",
        "print(\"House Info:\\n\", house.get_info())\n",
        "mansion = Mansion(\"Shamsahabad\", 200000000, 10)\n",
        "print(\"\\nMansion Info:\\n\", mansion.get_info())\n"
      ],
      "metadata": {
        "colab": {
          "base_uri": "https://localhost:8080/"
        },
        "id": "2J6mAnVET2fs",
        "outputId": "19ad5431-05be-4232-9a75-9f4faaca10f5"
      },
      "execution_count": 24,
      "outputs": [
        {
          "output_type": "stream",
          "name": "stdout",
          "text": [
            "House Info:\n",
            " Address: Miyapur\n",
            "Price: 1000000\n",
            "\n",
            "Mansion Info:\n",
            " Address: Shamsahabad\n",
            "Price: 200000000\n",
            "Number of Rooms: 10\n"
          ]
        }
      ]
    }
  ]
}